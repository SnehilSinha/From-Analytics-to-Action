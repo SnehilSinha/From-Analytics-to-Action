{
 "cells": [
  {
   "cell_type": "code",
   "execution_count": null,
   "id": "e6057817",
   "metadata": {},
   "outputs": [],
   "source": [
    "# Load datasets (update paths as necessary)\n",
    "box_df = pd.read_csv(\"enhanced_box_office_data(2000-2024)u.csv\")  # Dataset with 'Release Group'\n",
    "main_df = pd.read_csv(\"European_data_2000.csv\")      # Dataset with 'originalTitle'\n",
    "\n",
    "# Clean up the title columns:\n",
    "# - Remove any double quotes from the 'Release Group' in the box office dataset.\n",
    "# - Strip leading/trailing whitespace and convert to lowercase in both datasets.\n",
    "box_df[\"Release Group\"] = (\n",
    "    box_df[\"Release Group\"].str.replace('\"', '', regex=False)\n",
    "    .str.strip()\n",
    "    .str.lower()\n",
    ")\n",
    "main_df[\"originalTitle\"] = (\n",
    "    main_df[\"originalTitle\"].str.replace('\"', '', regex=False)\n",
    "    .str.strip()\n",
    "    .str.lower()\n",
    ")\n",
    "\n",
    "# Merge datasets on the cleaned title columns.\n",
    "merged_df = pd.merge(\n",
    "    main_df, box_df,\n",
    "    left_on=\"originalTitle\", right_on=\"Release Group\",\n",
    "    how=\"inner\"  # Use inner join to only keep movies present in both datasets.\n",
    ")\n",
    "\n",
    "print(\"Check if the merge was successful:\")\n",
    "# Verify the merge by checking a known title, e.g., \"my week with marilyn\"\n",
    "print(merged_df[merged_df[\"originalTitle\"].str.contains(\"my week with marilyn\")])\n",
    "\n",
    "# Now I want to print all originalTitle of each movie in the merged_df\n",
    "print(\"The movies are: \")\n",
    "print(merged_df[\"originalTitle\"])"
   ]
  }
 ],
 "metadata": {
  "language_info": {
   "name": "python"
  }
 },
 "nbformat": 4,
 "nbformat_minor": 5
}
